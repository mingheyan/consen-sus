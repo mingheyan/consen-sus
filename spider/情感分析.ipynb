{
 "cells": [
  {
   "cell_type": "code",
   "execution_count": null,
   "id": "initial_id",
   "metadata": {
    "collapsed": true
   },
   "outputs": [],
   "source": [
    ""
   ]
  },
  {
   "metadata": {
    "ExecuteTime": {
     "end_time": "2024-10-30T09:48:35.943096Z",
     "start_time": "2024-10-30T09:48:35.925027Z"
    }
   },
   "cell_type": "code",
   "source": [
    "result = {}\n",
    "import jieba\n",
    "seg_list = jieba.cut(\"我来到北京清华大学\", cut_all=False)\n",
    "for i in seg_list:\n",
    "    result[i] = result.get(i, 0) + 1\n",
    "print(result)\n"
   ],
   "id": "aa5f9761c211414",
   "outputs": [
    {
     "name": "stdout",
     "output_type": "stream",
     "text": [
      "{'我': 1, '来到': 1, '北京': 1, '清华大学': 1}\n"
     ]
    }
   ],
   "execution_count": 11
  },
  {
   "metadata": {},
   "cell_type": "code",
   "outputs": [],
   "execution_count": null,
   "source": "",
   "id": "81009a3cee5a41f5"
  }
 ],
 "metadata": {
  "kernelspec": {
   "display_name": "Python 3",
   "language": "python",
   "name": "python3"
  },
  "language_info": {
   "codemirror_mode": {
    "name": "ipython",
    "version": 2
   },
   "file_extension": ".py",
   "mimetype": "text/x-python",
   "name": "python",
   "nbconvert_exporter": "python",
   "pygments_lexer": "ipython2",
   "version": "2.7.6"
  }
 },
 "nbformat": 4,
 "nbformat_minor": 5
}
